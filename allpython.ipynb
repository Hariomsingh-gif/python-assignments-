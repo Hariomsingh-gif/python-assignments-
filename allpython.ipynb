{
 "cells": [
  {
   "cell_type": "code",
   "execution_count": 4,
   "id": "e02b6264-7252-4cf8-bb0c-946025507b30",
   "metadata": {},
   "outputs": [],
   "source": [
    "a=\"hariom\""
   ]
  },
  {
   "cell_type": "code",
   "execution_count": 6,
   "id": "0190d342-0ea2-4073-9b99-88ba3b1578f2",
   "metadata": {},
   "outputs": [
    {
     "data": {
      "text/plain": [
       "str"
      ]
     },
     "execution_count": 6,
     "metadata": {},
     "output_type": "execute_result"
    }
   ],
   "source": [
    "type(a)"
   ]
  },
  {
   "cell_type": "code",
   "execution_count": 8,
   "id": "8f18fbca-c249-4924-9dd6-58a411ca124d",
   "metadata": {},
   "outputs": [
    {
     "data": {
      "text/plain": [
       "'h'"
      ]
     },
     "execution_count": 8,
     "metadata": {},
     "output_type": "execute_result"
    }
   ],
   "source": [
    "a[0]"
   ]
  },
  {
   "cell_type": "code",
   "execution_count": 10,
   "id": "18d715c8-6adb-42a9-9fda-5fac1d3e3b63",
   "metadata": {},
   "outputs": [
    {
     "data": {
      "text/plain": [
       "'hro'"
      ]
     },
     "execution_count": 10,
     "metadata": {},
     "output_type": "execute_result"
    }
   ],
   "source": [
    "a[::2]"
   ]
  },
  {
   "cell_type": "code",
   "execution_count": 14,
   "id": "d6a81327-5ab3-4f55-8c76-ed9e087e766d",
   "metadata": {},
   "outputs": [],
   "source": [
    "b=\" singh\""
   ]
  },
  {
   "cell_type": "code",
   "execution_count": 16,
   "id": "549e42b6-fcc0-4faa-a95c-3e1892443888",
   "metadata": {},
   "outputs": [
    {
     "name": "stdout",
     "output_type": "stream",
     "text": [
      "hariom singh\n"
     ]
    }
   ],
   "source": [
    "print(a+b)"
   ]
  },
  {
   "cell_type": "code",
   "execution_count": 18,
   "id": "fddf1367-0b5c-4746-852e-bcdc8a25b6e7",
   "metadata": {},
   "outputs": [
    {
     "data": {
      "text/plain": [
       "6"
      ]
     },
     "execution_count": 18,
     "metadata": {},
     "output_type": "execute_result"
    }
   ],
   "source": [
    "len(a)"
   ]
  },
  {
   "cell_type": "code",
   "execution_count": 20,
   "id": "0f93e21a-0dda-4911-9661-4713a67d94aa",
   "metadata": {},
   "outputs": [
    {
     "name": "stdout",
     "output_type": "stream",
     "text": [
      "h\n",
      "a\n",
      "r\n",
      "i\n",
      "o\n",
      "m\n"
     ]
    }
   ],
   "source": [
    "for i in a:\n",
    "    print(i)"
   ]
  },
  {
   "cell_type": "code",
   "execution_count": 22,
   "id": "2c583a1c-6a81-4b50-9960-6fa536611280",
   "metadata": {},
   "outputs": [
    {
     "data": {
      "text/plain": [
       "True"
      ]
     },
     "execution_count": 22,
     "metadata": {},
     "output_type": "execute_result"
    }
   ],
   "source": [
    "\"a\" in a "
   ]
  },
  {
   "cell_type": "code",
   "execution_count": 24,
   "id": "945abfd5-d966-484c-8f82-d1815f935d3c",
   "metadata": {},
   "outputs": [
    {
     "data": {
      "text/plain": [
       "'HARIOM'"
      ]
     },
     "execution_count": 24,
     "metadata": {},
     "output_type": "execute_result"
    }
   ],
   "source": [
    "a.upper()"
   ]
  },
  {
   "cell_type": "code",
   "execution_count": 26,
   "id": "c6200adb-74fd-4e8c-acb8-1bd62eccc0af",
   "metadata": {},
   "outputs": [
    {
     "data": {
      "text/plain": [
       "'hariom'"
      ]
     },
     "execution_count": 26,
     "metadata": {},
     "output_type": "execute_result"
    }
   ],
   "source": [
    "a.lower()"
   ]
  },
  {
   "cell_type": "code",
   "execution_count": 28,
   "id": "ba8f84d6-bbc5-4c3b-8866-430625d8185a",
   "metadata": {},
   "outputs": [
    {
     "data": {
      "text/plain": [
       "'hariom'"
      ]
     },
     "execution_count": 28,
     "metadata": {},
     "output_type": "execute_result"
    }
   ],
   "source": [
    "a.strip()"
   ]
  },
  {
   "cell_type": "code",
   "execution_count": 30,
   "id": "6c599c40-43d3-4faf-9cb9-29e83175a6fe",
   "metadata": {},
   "outputs": [
    {
     "data": {
      "text/plain": [
       "['hariom']"
      ]
     },
     "execution_count": 30,
     "metadata": {},
     "output_type": "execute_result"
    }
   ],
   "source": [
    "a.split()"
   ]
  },
  {
   "cell_type": "code",
   "execution_count": 32,
   "id": "0620a494-1e74-4a4f-8bbc-edf86a1dce67",
   "metadata": {},
   "outputs": [
    {
     "data": {
      "text/plain": [
       "1"
      ]
     },
     "execution_count": 32,
     "metadata": {},
     "output_type": "execute_result"
    }
   ],
   "source": [
    "a.count(\"a\")"
   ]
  },
  {
   "cell_type": "code",
   "execution_count": 34,
   "id": "0b2ae217-6354-4edd-9dd1-f84c0c370f3f",
   "metadata": {},
   "outputs": [
    {
     "data": {
      "text/plain": [
       "1"
      ]
     },
     "execution_count": 34,
     "metadata": {},
     "output_type": "execute_result"
    }
   ],
   "source": [
    "a.find(\"a\")"
   ]
  },
  {
   "cell_type": "code",
   "execution_count": 36,
   "id": "7c2d55f0-071f-49af-8537-19305ee481ce",
   "metadata": {},
   "outputs": [
    {
     "data": {
      "text/plain": [
       "'aariom'"
      ]
     },
     "execution_count": 36,
     "metadata": {},
     "output_type": "execute_result"
    }
   ],
   "source": [
    "a.replace(\"h\",\"a\")"
   ]
  },
  {
   "cell_type": "code",
   "execution_count": 38,
   "id": "7f2fbd92-8927-440d-bb73-e7b549e33003",
   "metadata": {},
   "outputs": [
    {
     "data": {
      "text/plain": [
       "'Hariom'"
      ]
     },
     "execution_count": 38,
     "metadata": {},
     "output_type": "execute_result"
    }
   ],
   "source": [
    "a.capitalize()"
   ]
  },
  {
   "cell_type": "code",
   "execution_count": 40,
   "id": "4e2e4803-4422-4f9a-bb0a-e3cbc097c27f",
   "metadata": {},
   "outputs": [
    {
     "data": {
      "text/plain": [
       "'Hariom'"
      ]
     },
     "execution_count": 40,
     "metadata": {},
     "output_type": "execute_result"
    }
   ],
   "source": [
    "a.title()"
   ]
  },
  {
   "cell_type": "code",
   "execution_count": 42,
   "id": "2507f35a-23c7-4eaa-a6a8-0d6c21fab6a4",
   "metadata": {},
   "outputs": [
    {
     "data": {
      "text/plain": [
       "False"
      ]
     },
     "execution_count": 42,
     "metadata": {},
     "output_type": "execute_result"
    }
   ],
   "source": [
    "a.endswith(\"a\")"
   ]
  },
  {
   "cell_type": "code",
   "execution_count": 44,
   "id": "166f0de2-6d5f-4089-b10d-5bc77391a81e",
   "metadata": {},
   "outputs": [
    {
     "data": {
      "text/plain": [
       "True"
      ]
     },
     "execution_count": 44,
     "metadata": {},
     "output_type": "execute_result"
    }
   ],
   "source": [
    "a.startswith(\"h\")"
   ]
  },
  {
   "cell_type": "code",
   "execution_count": 46,
   "id": "8266660a-c020-4333-9f40-0c580f429f30",
   "metadata": {},
   "outputs": [
    {
     "name": "stdout",
     "output_type": "stream",
     "text": [
      "my name is hariom\n"
     ]
    }
   ],
   "source": [
    "print(f\"my name is {a}\")"
   ]
  },
  {
   "cell_type": "code",
   "execution_count": 48,
   "id": "d7a92f77-e253-4205-bf6d-fe7ead2250f8",
   "metadata": {},
   "outputs": [
    {
     "data": {
      "text/plain": [
       "'moirah'"
      ]
     },
     "execution_count": 48,
     "metadata": {},
     "output_type": "execute_result"
    }
   ],
   "source": [
    "a[::-1]"
   ]
  },
  {
   "cell_type": "code",
   "execution_count": 50,
   "id": "75c7331a-090f-4b29-a31a-e1f66d94e79a",
   "metadata": {},
   "outputs": [
    {
     "data": {
      "text/plain": [
       "'hariom'"
      ]
     },
     "execution_count": 50,
     "metadata": {},
     "output_type": "execute_result"
    }
   ],
   "source": [
    "\"\".join([\"hariom\"])"
   ]
  },
  {
   "cell_type": "code",
   "execution_count": 52,
   "id": "92918be1-c213-4bfa-a70e-6756b3b7f478",
   "metadata": {},
   "outputs": [
    {
     "data": {
      "text/plain": [
       "True"
      ]
     },
     "execution_count": 52,
     "metadata": {},
     "output_type": "execute_result"
    }
   ],
   "source": [
    "a.isalpha()"
   ]
  },
  {
   "cell_type": "code",
   "execution_count": 54,
   "id": "af2d22c7-e9ff-4c1d-832b-7ca5b2c29065",
   "metadata": {},
   "outputs": [
    {
     "data": {
      "text/plain": [
       "True"
      ]
     },
     "execution_count": 54,
     "metadata": {},
     "output_type": "execute_result"
    }
   ],
   "source": [
    "a.isalnum()"
   ]
  },
  {
   "cell_type": "code",
   "execution_count": 56,
   "id": "e210d08c-50b7-4607-98d5-68beb95730db",
   "metadata": {},
   "outputs": [
    {
     "data": {
      "text/plain": [
       "False"
      ]
     },
     "execution_count": 56,
     "metadata": {},
     "output_type": "execute_result"
    }
   ],
   "source": [
    "a.isspace()"
   ]
  },
  {
   "cell_type": "code",
   "execution_count": 58,
   "id": "07e81f32-5479-4aed-94a1-405668a58900",
   "metadata": {},
   "outputs": [
    {
     "data": {
      "text/plain": [
       "False"
      ]
     },
     "execution_count": 58,
     "metadata": {},
     "output_type": "execute_result"
    }
   ],
   "source": [
    "a.isdigit()"
   ]
  },
  {
   "cell_type": "code",
   "execution_count": 60,
   "id": "52667ac1-5aa3-45e3-a0a8-152cbd6f1df4",
   "metadata": {},
   "outputs": [],
   "source": [
    "a=10"
   ]
  },
  {
   "cell_type": "code",
   "execution_count": 62,
   "id": "3c41d028-371a-4011-8315-04c59e324399",
   "metadata": {},
   "outputs": [],
   "source": [
    "b=7"
   ]
  },
  {
   "cell_type": "code",
   "execution_count": 64,
   "id": "d6265b84-a176-4a6f-acd4-ceef5d5988e6",
   "metadata": {},
   "outputs": [
    {
     "data": {
      "text/plain": [
       "int"
      ]
     },
     "execution_count": 64,
     "metadata": {},
     "output_type": "execute_result"
    }
   ],
   "source": [
    "type(a)"
   ]
  },
  {
   "cell_type": "code",
   "execution_count": 66,
   "id": "b69ea0bd-7365-418c-a676-18eacd604484",
   "metadata": {},
   "outputs": [
    {
     "data": {
      "text/plain": [
       "17"
      ]
     },
     "execution_count": 66,
     "metadata": {},
     "output_type": "execute_result"
    }
   ],
   "source": [
    "a+b"
   ]
  },
  {
   "cell_type": "code",
   "execution_count": 68,
   "id": "7b0f88e8-f5c8-487e-83ea-1f85e5fc607c",
   "metadata": {},
   "outputs": [
    {
     "data": {
      "text/plain": [
       "3"
      ]
     },
     "execution_count": 68,
     "metadata": {},
     "output_type": "execute_result"
    }
   ],
   "source": [
    "a-b"
   ]
  },
  {
   "cell_type": "code",
   "execution_count": 70,
   "id": "b73976eb-4adb-4687-a857-b212fc80a298",
   "metadata": {},
   "outputs": [
    {
     "data": {
      "text/plain": [
       "70"
      ]
     },
     "execution_count": 70,
     "metadata": {},
     "output_type": "execute_result"
    }
   ],
   "source": [
    "a*b"
   ]
  },
  {
   "cell_type": "code",
   "execution_count": 72,
   "id": "ee097238-9d21-4e98-b480-f4a0d1a26970",
   "metadata": {},
   "outputs": [
    {
     "data": {
      "text/plain": [
       "1.4285714285714286"
      ]
     },
     "execution_count": 72,
     "metadata": {},
     "output_type": "execute_result"
    }
   ],
   "source": [
    "a/b"
   ]
  },
  {
   "cell_type": "code",
   "execution_count": 74,
   "id": "7287f52f-0ced-4a2a-afdc-9bd60ed9edb6",
   "metadata": {},
   "outputs": [
    {
     "data": {
      "text/plain": [
       "1"
      ]
     },
     "execution_count": 74,
     "metadata": {},
     "output_type": "execute_result"
    }
   ],
   "source": [
    "a//b"
   ]
  },
  {
   "cell_type": "code",
   "execution_count": 76,
   "id": "e1514779-2d2a-4fde-b121-e1f02b95787b",
   "metadata": {},
   "outputs": [
    {
     "data": {
      "text/plain": [
       "10000000"
      ]
     },
     "execution_count": 76,
     "metadata": {},
     "output_type": "execute_result"
    }
   ],
   "source": [
    "a**b"
   ]
  },
  {
   "cell_type": "code",
   "execution_count": 78,
   "id": "7415a532-47be-4575-99cb-a54b90c29a67",
   "metadata": {},
   "outputs": [
    {
     "data": {
      "text/plain": [
       "3"
      ]
     },
     "execution_count": 78,
     "metadata": {},
     "output_type": "execute_result"
    }
   ],
   "source": [
    "a%b"
   ]
  },
  {
   "cell_type": "code",
   "execution_count": 80,
   "id": "4aa977fe-ea35-4f05-808e-5763e5f72430",
   "metadata": {},
   "outputs": [
    {
     "data": {
      "text/plain": [
       "False"
      ]
     },
     "execution_count": 80,
     "metadata": {},
     "output_type": "execute_result"
    }
   ],
   "source": [
    "a==b"
   ]
  },
  {
   "cell_type": "code",
   "execution_count": 82,
   "id": "0970b1ea-476a-4e7c-b257-5cda526d3e6d",
   "metadata": {},
   "outputs": [
    {
     "data": {
      "text/plain": [
       "True"
      ]
     },
     "execution_count": 82,
     "metadata": {},
     "output_type": "execute_result"
    }
   ],
   "source": [
    "a!=b"
   ]
  },
  {
   "cell_type": "code",
   "execution_count": 84,
   "id": "e150a3f7-fc2f-4fc3-89f6-b9e8e60e4f83",
   "metadata": {},
   "outputs": [
    {
     "data": {
      "text/plain": [
       "True"
      ]
     },
     "execution_count": 84,
     "metadata": {},
     "output_type": "execute_result"
    }
   ],
   "source": [
    "a>b"
   ]
  },
  {
   "cell_type": "code",
   "execution_count": 86,
   "id": "c1acb5ff-6d73-4023-861e-389bdf140aea",
   "metadata": {},
   "outputs": [
    {
     "data": {
      "text/plain": [
       "False"
      ]
     },
     "execution_count": 86,
     "metadata": {},
     "output_type": "execute_result"
    }
   ],
   "source": [
    "a<b"
   ]
  },
  {
   "cell_type": "code",
   "execution_count": 88,
   "id": "5847f683-2d63-46c5-b352-cedd07b3e2ad",
   "metadata": {},
   "outputs": [
    {
     "data": {
      "text/plain": [
       "True"
      ]
     },
     "execution_count": 88,
     "metadata": {},
     "output_type": "execute_result"
    }
   ],
   "source": [
    "a>=b"
   ]
  },
  {
   "cell_type": "code",
   "execution_count": 90,
   "id": "7018c9e6-2f5d-455d-a4e0-46715607f368",
   "metadata": {},
   "outputs": [
    {
     "data": {
      "text/plain": [
       "False"
      ]
     },
     "execution_count": 90,
     "metadata": {},
     "output_type": "execute_result"
    }
   ],
   "source": [
    "a<=b"
   ]
  },
  {
   "cell_type": "code",
   "execution_count": 92,
   "id": "af927ded-5662-45d9-922c-9759e84d5837",
   "metadata": {},
   "outputs": [
    {
     "data": {
      "text/plain": [
       "123"
      ]
     },
     "execution_count": 92,
     "metadata": {},
     "output_type": "execute_result"
    }
   ],
   "source": [
    "int(\"123\")"
   ]
  },
  {
   "cell_type": "code",
   "execution_count": 96,
   "id": "b766bf7b-033b-463f-9ebc-7f995b4b8ead",
   "metadata": {},
   "outputs": [
    {
     "data": {
      "text/plain": [
       "109087908"
      ]
     },
     "execution_count": 96,
     "metadata": {},
     "output_type": "execute_result"
    }
   ],
   "source": [
    "int(109087908.0987654356789)"
   ]
  },
  {
   "cell_type": "code",
   "execution_count": 98,
   "id": "9f248c47-4f30-4b95-a422-78a629aaa0b1",
   "metadata": {},
   "outputs": [
    {
     "name": "stdout",
     "output_type": "stream",
     "text": [
      "0\n",
      "1\n",
      "2\n",
      "3\n",
      "4\n",
      "5\n",
      "6\n",
      "7\n",
      "8\n",
      "9\n",
      "10\n"
     ]
    }
   ],
   "source": [
    "for i in range(11):\n",
    "    print(i)"
   ]
  },
  {
   "cell_type": "code",
   "execution_count": 102,
   "id": "8860e7a0-9385-429a-9c9b-f8e048fb6d86",
   "metadata": {},
   "outputs": [
    {
     "name": "stdin",
     "output_type": "stream",
     "text": [
      "enter a number 10\n"
     ]
    }
   ],
   "source": [
    "num=int(input(\"enter a number\"))"
   ]
  },
  {
   "cell_type": "code",
   "execution_count": 104,
   "id": "c197e5ed-b70a-42c6-896e-8e7173d7db1a",
   "metadata": {},
   "outputs": [
    {
     "name": "stdout",
     "output_type": "stream",
     "text": [
      "even\n"
     ]
    }
   ],
   "source": [
    "if num %2==0:\n",
    "    print(\"even\")\n",
    "else:\n",
    "    print(\"odd\")"
   ]
  },
  {
   "cell_type": "code",
   "execution_count": 106,
   "id": "ef6ee357-ca35-47eb-8993-80ae033fead4",
   "metadata": {},
   "outputs": [],
   "source": [
    "a=10.0"
   ]
  },
  {
   "cell_type": "code",
   "execution_count": 108,
   "id": "c7742d07-1a64-48b5-b8cf-bda892fc0365",
   "metadata": {},
   "outputs": [],
   "source": [
    "b=7.8"
   ]
  },
  {
   "cell_type": "code",
   "execution_count": 110,
   "id": "3a08d659-6a6b-4959-b7d0-a0b76ad8eabe",
   "metadata": {},
   "outputs": [
    {
     "data": {
      "text/plain": [
       "float"
      ]
     },
     "execution_count": 110,
     "metadata": {},
     "output_type": "execute_result"
    }
   ],
   "source": [
    "type(a)"
   ]
  },
  {
   "cell_type": "code",
   "execution_count": 112,
   "id": "44e22e8e-0c07-40e7-ae4f-0051865ba344",
   "metadata": {},
   "outputs": [
    {
     "data": {
      "text/plain": [
       "123.0"
      ]
     },
     "execution_count": 112,
     "metadata": {},
     "output_type": "execute_result"
    }
   ],
   "source": [
    "float(\"123\")"
   ]
  },
  {
   "cell_type": "code",
   "execution_count": 114,
   "id": "c93bb069-04a2-4ee8-bc8f-beedb79a4cbe",
   "metadata": {},
   "outputs": [
    {
     "data": {
      "text/plain": [
       "108293.0"
      ]
     },
     "execution_count": 114,
     "metadata": {},
     "output_type": "execute_result"
    }
   ],
   "source": [
    "float(108293)"
   ]
  },
  {
   "cell_type": "code",
   "execution_count": 116,
   "id": "459465ae-fc5b-419b-af8b-9205238a104e",
   "metadata": {},
   "outputs": [
    {
     "name": "stdin",
     "output_type": "stream",
     "text": [
      "enter a number 10\n"
     ]
    }
   ],
   "source": [
    "num=float(input(\"enter a number\"))"
   ]
  },
  {
   "cell_type": "code",
   "execution_count": 118,
   "id": "245bc4a0-252c-45cb-9c10-9d5f58d36654",
   "metadata": {},
   "outputs": [
    {
     "data": {
      "text/plain": [
       "17.8"
      ]
     },
     "execution_count": 118,
     "metadata": {},
     "output_type": "execute_result"
    }
   ],
   "source": [
    "a+b"
   ]
  },
  {
   "cell_type": "code",
   "execution_count": 120,
   "id": "4b9e31e7-cdf6-4fdb-9de3-8492297301df",
   "metadata": {},
   "outputs": [
    {
     "data": {
      "text/plain": [
       "2.2"
      ]
     },
     "execution_count": 120,
     "metadata": {},
     "output_type": "execute_result"
    }
   ],
   "source": [
    "a-b"
   ]
  },
  {
   "cell_type": "code",
   "execution_count": 128,
   "id": "7ba27725-b174-4179-abec-da1699aeba0c",
   "metadata": {},
   "outputs": [
    {
     "data": {
      "text/plain": [
       "78.0"
      ]
     },
     "execution_count": 128,
     "metadata": {},
     "output_type": "execute_result"
    }
   ],
   "source": [
    "a*b"
   ]
  },
  {
   "cell_type": "code",
   "execution_count": 134,
   "id": "680dcd17-95cc-43df-8f71-76080f61840b",
   "metadata": {},
   "outputs": [
    {
     "data": {
      "text/plain": [
       "1.2820512820512822"
      ]
     },
     "execution_count": 134,
     "metadata": {},
     "output_type": "execute_result"
    }
   ],
   "source": [
    "a/b"
   ]
  },
  {
   "cell_type": "code",
   "execution_count": 136,
   "id": "59f4ab8d-a6ec-42c5-aefc-1542c421e01d",
   "metadata": {},
   "outputs": [
    {
     "data": {
      "text/plain": [
       "1.0"
      ]
     },
     "execution_count": 136,
     "metadata": {},
     "output_type": "execute_result"
    }
   ],
   "source": [
    "a//b"
   ]
  },
  {
   "cell_type": "code",
   "execution_count": 138,
   "id": "de8c1285-7e14-4cf6-8e99-1988544e44a9",
   "metadata": {},
   "outputs": [
    {
     "data": {
      "text/plain": [
       "2.2"
      ]
     },
     "execution_count": 138,
     "metadata": {},
     "output_type": "execute_result"
    }
   ],
   "source": [
    "a%b"
   ]
  },
  {
   "cell_type": "code",
   "execution_count": 140,
   "id": "07fd2b85-e35e-4774-8cb4-ce6780fd2999",
   "metadata": {},
   "outputs": [
    {
     "data": {
      "text/plain": [
       "False"
      ]
     },
     "execution_count": 140,
     "metadata": {},
     "output_type": "execute_result"
    }
   ],
   "source": [
    "a==b"
   ]
  },
  {
   "cell_type": "code",
   "execution_count": 142,
   "id": "d2bed38a-220f-4bf4-a559-96aaab276858",
   "metadata": {},
   "outputs": [
    {
     "data": {
      "text/plain": [
       "True"
      ]
     },
     "execution_count": 142,
     "metadata": {},
     "output_type": "execute_result"
    }
   ],
   "source": [
    "a!=b"
   ]
  },
  {
   "cell_type": "code",
   "execution_count": 144,
   "id": "e1ebeee5-24e7-4c9b-b910-9dfe952f180d",
   "metadata": {},
   "outputs": [
    {
     "data": {
      "text/plain": [
       "True"
      ]
     },
     "execution_count": 144,
     "metadata": {},
     "output_type": "execute_result"
    }
   ],
   "source": [
    "a>b"
   ]
  },
  {
   "cell_type": "code",
   "execution_count": 146,
   "id": "c3f5b6ef-0a39-414e-9c23-370f98065346",
   "metadata": {},
   "outputs": [
    {
     "data": {
      "text/plain": [
       "False"
      ]
     },
     "execution_count": 146,
     "metadata": {},
     "output_type": "execute_result"
    }
   ],
   "source": [
    "a<b"
   ]
  },
  {
   "cell_type": "code",
   "execution_count": 148,
   "id": "309c97b0-b7ea-4a37-831f-f0756258d957",
   "metadata": {},
   "outputs": [
    {
     "data": {
      "text/plain": [
       "True"
      ]
     },
     "execution_count": 148,
     "metadata": {},
     "output_type": "execute_result"
    }
   ],
   "source": [
    "a>=b"
   ]
  },
  {
   "cell_type": "code",
   "execution_count": 152,
   "id": "ad9836bc-6ddb-4044-8cd2-ac4c13beb3f2",
   "metadata": {},
   "outputs": [
    {
     "data": {
      "text/plain": [
       "False"
      ]
     },
     "execution_count": 152,
     "metadata": {},
     "output_type": "execute_result"
    }
   ],
   "source": [
    "a<=b"
   ]
  },
  {
   "cell_type": "code",
   "execution_count": 154,
   "id": "f6cd6569-b4ec-4bbe-8e1d-01ee05323ef3",
   "metadata": {},
   "outputs": [
    {
     "data": {
      "text/plain": [
       "10"
      ]
     },
     "execution_count": 154,
     "metadata": {},
     "output_type": "execute_result"
    }
   ],
   "source": [
    "round(a)"
   ]
  },
  {
   "cell_type": "code",
   "execution_count": 156,
   "id": "18f65089-80e0-47a9-bce9-f0274f3550c4",
   "metadata": {},
   "outputs": [],
   "source": [
    "a=True"
   ]
  },
  {
   "cell_type": "code",
   "execution_count": 158,
   "id": "da1dac47-0028-43da-8d29-23e6d093c7d2",
   "metadata": {},
   "outputs": [],
   "source": [
    "b=False"
   ]
  },
  {
   "cell_type": "code",
   "execution_count": 160,
   "id": "30c5b14f-4408-45a6-b3cb-1d7ee919d5ae",
   "metadata": {},
   "outputs": [
    {
     "data": {
      "text/plain": [
       "bool"
      ]
     },
     "execution_count": 160,
     "metadata": {},
     "output_type": "execute_result"
    }
   ],
   "source": [
    "type(a)"
   ]
  },
  {
   "cell_type": "code",
   "execution_count": 166,
   "id": "06c23e4b-4527-4c0e-87be-fcf0f1fc16dc",
   "metadata": {},
   "outputs": [
    {
     "data": {
      "text/plain": [
       "False"
      ]
     },
     "execution_count": 166,
     "metadata": {},
     "output_type": "execute_result"
    }
   ],
   "source": [
    "a==b"
   ]
  },
  {
   "cell_type": "code",
   "execution_count": 168,
   "id": "45e3b91c-3596-4182-99d0-dcf5b3f0551e",
   "metadata": {},
   "outputs": [
    {
     "data": {
      "text/plain": [
       "True"
      ]
     },
     "execution_count": 168,
     "metadata": {},
     "output_type": "execute_result"
    }
   ],
   "source": [
    "a!=b"
   ]
  },
  {
   "cell_type": "code",
   "execution_count": 170,
   "id": "06cf6bf4-a514-4eae-bf78-d679aee3236c",
   "metadata": {},
   "outputs": [
    {
     "data": {
      "text/plain": [
       "True"
      ]
     },
     "execution_count": 170,
     "metadata": {},
     "output_type": "execute_result"
    }
   ],
   "source": [
    "a>b"
   ]
  },
  {
   "cell_type": "code",
   "execution_count": 172,
   "id": "36e92d49-d5fe-40c3-81f5-023eafe66249",
   "metadata": {},
   "outputs": [
    {
     "data": {
      "text/plain": [
       "False"
      ]
     },
     "execution_count": 172,
     "metadata": {},
     "output_type": "execute_result"
    }
   ],
   "source": [
    "a<b"
   ]
  },
  {
   "cell_type": "code",
   "execution_count": 174,
   "id": "263bf546-6a76-42f3-a8bc-8f2ab0b3cd7f",
   "metadata": {},
   "outputs": [
    {
     "data": {
      "text/plain": [
       "True"
      ]
     },
     "execution_count": 174,
     "metadata": {},
     "output_type": "execute_result"
    }
   ],
   "source": [
    "a>=b"
   ]
  },
  {
   "cell_type": "code",
   "execution_count": 176,
   "id": "7dcceddf-dee3-4b67-9064-cf0f908ba2f8",
   "metadata": {},
   "outputs": [
    {
     "data": {
      "text/plain": [
       "False"
      ]
     },
     "execution_count": 176,
     "metadata": {},
     "output_type": "execute_result"
    }
   ],
   "source": [
    "a<=b"
   ]
  },
  {
   "cell_type": "code",
   "execution_count": 178,
   "id": "9b135168-5b5b-4354-bfc9-f7556132193d",
   "metadata": {},
   "outputs": [],
   "source": [
    "x=15 "
   ]
  },
  {
   "cell_type": "code",
   "execution_count": 180,
   "id": "df51da0b-0d6c-4732-b0ed-a107c7a7c235",
   "metadata": {},
   "outputs": [
    {
     "name": "stdout",
     "output_type": "stream",
     "text": [
      "big\n"
     ]
    }
   ],
   "source": [
    "if x >=15:\n",
    "    print(\"big\")\n",
    "else:\n",
    "    print(\"no\")"
   ]
  },
  {
   "cell_type": "code",
   "execution_count": 182,
   "id": "f3825dc4-ea2f-423f-9e17-506ea0eef0a4",
   "metadata": {},
   "outputs": [],
   "source": [
    "a=[\"apple\",\"mango\",\"egg\",\"cheery\"]"
   ]
  },
  {
   "cell_type": "code",
   "execution_count": 184,
   "id": "4a504b30-f2c7-43ff-be5b-8dab510a120f",
   "metadata": {},
   "outputs": [
    {
     "data": {
      "text/plain": [
       "list"
      ]
     },
     "execution_count": 184,
     "metadata": {},
     "output_type": "execute_result"
    }
   ],
   "source": [
    "type(a)"
   ]
  },
  {
   "cell_type": "code",
   "execution_count": 186,
   "id": "b960cec2-eaaa-4bd2-87d1-c1545c53fe8a",
   "metadata": {},
   "outputs": [
    {
     "data": {
      "text/plain": [
       "4"
      ]
     },
     "execution_count": 186,
     "metadata": {},
     "output_type": "execute_result"
    }
   ],
   "source": [
    "len(a)"
   ]
  },
  {
   "cell_type": "code",
   "execution_count": 188,
   "id": "b9b5eefc-6967-4029-8f4d-c4c157224459",
   "metadata": {},
   "outputs": [
    {
     "data": {
      "text/plain": [
       "'apple'"
      ]
     },
     "execution_count": 188,
     "metadata": {},
     "output_type": "execute_result"
    }
   ],
   "source": [
    "a[0]"
   ]
  },
  {
   "cell_type": "code",
   "execution_count": 190,
   "id": "d49bbb41-1ac3-42bd-acaf-a86e928afa6b",
   "metadata": {},
   "outputs": [
    {
     "data": {
      "text/plain": [
       "['apple', 'mango']"
      ]
     },
     "execution_count": 190,
     "metadata": {},
     "output_type": "execute_result"
    }
   ],
   "source": [
    "a[:2]"
   ]
  },
  {
   "cell_type": "code",
   "execution_count": 192,
   "id": "482a5c53-f07e-47a2-8839-d91f6489d6b6",
   "metadata": {},
   "outputs": [],
   "source": [
    "a[0]=\"banana\""
   ]
  },
  {
   "cell_type": "code",
   "execution_count": 194,
   "id": "5ecd4efc-05d7-4f32-b4dc-37b8f5821df8",
   "metadata": {},
   "outputs": [
    {
     "data": {
      "text/plain": [
       "['banana', 'mango', 'egg', 'cheery']"
      ]
     },
     "execution_count": 194,
     "metadata": {},
     "output_type": "execute_result"
    }
   ],
   "source": [
    "a"
   ]
  },
  {
   "cell_type": "code",
   "execution_count": 196,
   "id": "e14c3770-9867-49d1-9d6e-4af022be26b8",
   "metadata": {},
   "outputs": [],
   "source": [
    "if \"apple\" in a:\n",
    "    print(\"found\")"
   ]
  },
  {
   "cell_type": "code",
   "execution_count": 198,
   "id": "162007b8-ddf7-41b6-851e-7ccb4eb9e95e",
   "metadata": {},
   "outputs": [],
   "source": [
    "a.append(\"apple\")"
   ]
  },
  {
   "cell_type": "code",
   "execution_count": 200,
   "id": "44fa7cb1-e0b4-4573-bbe1-14be9b112270",
   "metadata": {},
   "outputs": [
    {
     "data": {
      "text/plain": [
       "['banana', 'mango', 'egg', 'cheery', 'apple']"
      ]
     },
     "execution_count": 200,
     "metadata": {},
     "output_type": "execute_result"
    }
   ],
   "source": [
    "a"
   ]
  },
  {
   "cell_type": "code",
   "execution_count": 204,
   "id": "5511b351-9cc6-4ef2-873f-9eba8f0e38fc",
   "metadata": {},
   "outputs": [],
   "source": [
    "b=['pop']"
   ]
  },
  {
   "cell_type": "code",
   "execution_count": 206,
   "id": "fb8a88b5-90e9-4512-8858-11b5232faa1f",
   "metadata": {},
   "outputs": [],
   "source": [
    "a.extend(b)"
   ]
  },
  {
   "cell_type": "code",
   "execution_count": 208,
   "id": "33def090-8b0c-4d6d-9dff-84abab025c84",
   "metadata": {},
   "outputs": [
    {
     "data": {
      "text/plain": [
       "['banana', 'mango', 'egg', 'cheery', 'apple', 'pop']"
      ]
     },
     "execution_count": 208,
     "metadata": {},
     "output_type": "execute_result"
    }
   ],
   "source": [
    "a"
   ]
  },
  {
   "cell_type": "code",
   "execution_count": 210,
   "id": "d7604566-6a0a-4498-b3a9-105b8f54430e",
   "metadata": {},
   "outputs": [],
   "source": [
    "a.insert(3,\"fish\")"
   ]
  },
  {
   "cell_type": "code",
   "execution_count": 212,
   "id": "ec87fb65-3036-47b3-84e5-04f3cf283673",
   "metadata": {},
   "outputs": [
    {
     "data": {
      "text/plain": [
       "['banana', 'mango', 'egg', 'fish', 'cheery', 'apple', 'pop']"
      ]
     },
     "execution_count": 212,
     "metadata": {},
     "output_type": "execute_result"
    }
   ],
   "source": [
    "a"
   ]
  },
  {
   "cell_type": "code",
   "execution_count": 214,
   "id": "114f7ac5-3ca0-4d75-a779-797454fb6d9d",
   "metadata": {},
   "outputs": [],
   "source": [
    "a.remove(\"egg\")"
   ]
  },
  {
   "cell_type": "code",
   "execution_count": 216,
   "id": "64cd99b2-bb53-42ca-907b-4c322bfcf818",
   "metadata": {},
   "outputs": [
    {
     "data": {
      "text/plain": [
       "['banana', 'mango', 'fish', 'cheery', 'apple', 'pop']"
      ]
     },
     "execution_count": 216,
     "metadata": {},
     "output_type": "execute_result"
    }
   ],
   "source": [
    "a"
   ]
  },
  {
   "cell_type": "code",
   "execution_count": 218,
   "id": "10cbe8da-9706-43c0-ba65-71eaea8999b9",
   "metadata": {},
   "outputs": [
    {
     "data": {
      "text/plain": [
       "'pop'"
      ]
     },
     "execution_count": 218,
     "metadata": {},
     "output_type": "execute_result"
    }
   ],
   "source": [
    "a.pop()"
   ]
  },
  {
   "cell_type": "code",
   "execution_count": 220,
   "id": "982f9fd0-60a6-4805-bf4c-ca0a69746f47",
   "metadata": {},
   "outputs": [
    {
     "data": {
      "text/plain": [
       "['banana', 'mango', 'fish', 'cheery', 'apple']"
      ]
     },
     "execution_count": 220,
     "metadata": {},
     "output_type": "execute_result"
    }
   ],
   "source": [
    "a"
   ]
  },
  {
   "cell_type": "code",
   "execution_count": 222,
   "id": "7ea0d51f-b65c-4686-9999-aae41e153b4b",
   "metadata": {},
   "outputs": [
    {
     "data": {
      "text/plain": [
       "1"
      ]
     },
     "execution_count": 222,
     "metadata": {},
     "output_type": "execute_result"
    }
   ],
   "source": [
    "a.count(\"apple\")"
   ]
  },
  {
   "cell_type": "code",
   "execution_count": 224,
   "id": "859f2d8a-95a5-4026-b15c-fd51c6206e36",
   "metadata": {},
   "outputs": [],
   "source": [
    "a.sort()"
   ]
  },
  {
   "cell_type": "code",
   "execution_count": 226,
   "id": "8ba725fc-0618-481e-84ac-7af66e76591f",
   "metadata": {},
   "outputs": [
    {
     "data": {
      "text/plain": [
       "['apple', 'banana', 'cheery', 'fish', 'mango']"
      ]
     },
     "execution_count": 226,
     "metadata": {},
     "output_type": "execute_result"
    }
   ],
   "source": [
    "a"
   ]
  },
  {
   "cell_type": "code",
   "execution_count": 228,
   "id": "e8eaebb8-d8a5-4f89-8622-b25c98d65f1f",
   "metadata": {},
   "outputs": [
    {
     "data": {
      "text/plain": [
       "['apple', 'banana', 'cheery', 'fish', 'mango']"
      ]
     },
     "execution_count": 228,
     "metadata": {},
     "output_type": "execute_result"
    }
   ],
   "source": [
    "a.copy()"
   ]
  },
  {
   "cell_type": "code",
   "execution_count": 230,
   "id": "78e53cc4-08bf-4d92-9bae-ca13f97325ae",
   "metadata": {},
   "outputs": [],
   "source": [
    "a.clear()"
   ]
  },
  {
   "cell_type": "code",
   "execution_count": 232,
   "id": "15fe71ab-c7b2-4d15-8c5d-b37336968e29",
   "metadata": {},
   "outputs": [
    {
     "data": {
      "text/plain": [
       "[]"
      ]
     },
     "execution_count": 232,
     "metadata": {},
     "output_type": "execute_result"
    }
   ],
   "source": [
    "a"
   ]
  },
  {
   "cell_type": "code",
   "execution_count": 238,
   "id": "9b0caadf-e94f-403c-94f4-0242cec1d4cc",
   "metadata": {},
   "outputs": [],
   "source": [
    "a=(\"apple\",\"mango\",\"cherry\",\"egg\",\"fish\")"
   ]
  },
  {
   "cell_type": "code",
   "execution_count": 240,
   "id": "7cbf16ff-ce73-43ff-9ac0-8bf5272995d5",
   "metadata": {},
   "outputs": [
    {
     "data": {
      "text/plain": [
       "tuple"
      ]
     },
     "execution_count": 240,
     "metadata": {},
     "output_type": "execute_result"
    }
   ],
   "source": [
    "type(a)"
   ]
  },
  {
   "cell_type": "code",
   "execution_count": 242,
   "id": "9e116b61-1dd8-43d3-9dc0-a4713c1531e6",
   "metadata": {},
   "outputs": [],
   "source": [
    "c=(1,)"
   ]
  },
  {
   "cell_type": "code",
   "execution_count": 244,
   "id": "504770b3-3f2b-4761-a84c-5f46dd6107d7",
   "metadata": {},
   "outputs": [
    {
     "data": {
      "text/plain": [
       "5"
      ]
     },
     "execution_count": 244,
     "metadata": {},
     "output_type": "execute_result"
    }
   ],
   "source": [
    "len(a)"
   ]
  },
  {
   "cell_type": "code",
   "execution_count": 246,
   "id": "da08b2b7-6402-4104-859d-863adad29701",
   "metadata": {},
   "outputs": [
    {
     "name": "stdout",
     "output_type": "stream",
     "text": [
      "apple\n",
      "mango\n",
      "cherry\n",
      "egg\n",
      "fish\n"
     ]
    }
   ],
   "source": [
    "for i in a:\n",
    "    print(i)"
   ]
  },
  {
   "cell_type": "code",
   "execution_count": 248,
   "id": "b0f3945e-8d88-48ea-9f80-46bdbeddd526",
   "metadata": {},
   "outputs": [
    {
     "data": {
      "text/plain": [
       "'apple'"
      ]
     },
     "execution_count": 248,
     "metadata": {},
     "output_type": "execute_result"
    }
   ],
   "source": [
    "a[0]"
   ]
  },
  {
   "cell_type": "code",
   "execution_count": 250,
   "id": "2cde6121-8935-4363-a0eb-a1ec5e798352",
   "metadata": {},
   "outputs": [
    {
     "data": {
      "text/plain": [
       "('apple', 'cherry', 'fish')"
      ]
     },
     "execution_count": 250,
     "metadata": {},
     "output_type": "execute_result"
    }
   ],
   "source": [
    "a[::2]"
   ]
  },
  {
   "cell_type": "code",
   "execution_count": 252,
   "id": "9d9779c2-1a24-4c72-a6bf-987d2e8b581d",
   "metadata": {},
   "outputs": [],
   "source": [
    "x,y,z=(1,2,3)"
   ]
  },
  {
   "cell_type": "code",
   "execution_count": 254,
   "id": "613ee6c1-1230-4166-8774-fb8444d72a7f",
   "metadata": {},
   "outputs": [
    {
     "data": {
      "text/plain": [
       "1"
      ]
     },
     "execution_count": 254,
     "metadata": {},
     "output_type": "execute_result"
    }
   ],
   "source": [
    "x"
   ]
  },
  {
   "cell_type": "code",
   "execution_count": 256,
   "id": "f3613794-f4f8-4eae-9cc3-6c3752ee6cc4",
   "metadata": {},
   "outputs": [
    {
     "data": {
      "text/plain": [
       "2"
      ]
     },
     "execution_count": 256,
     "metadata": {},
     "output_type": "execute_result"
    }
   ],
   "source": [
    "y"
   ]
  },
  {
   "cell_type": "code",
   "execution_count": 258,
   "id": "038f7101-66d3-4a51-a1a2-6130d8fbc76e",
   "metadata": {},
   "outputs": [
    {
     "data": {
      "text/plain": [
       "3"
      ]
     },
     "execution_count": 258,
     "metadata": {},
     "output_type": "execute_result"
    }
   ],
   "source": [
    "z"
   ]
  },
  {
   "cell_type": "code",
   "execution_count": 260,
   "id": "e7c1aa22-a688-4586-ad65-973ecc7abb60",
   "metadata": {},
   "outputs": [
    {
     "data": {
      "text/plain": [
       "('apple', 'mango', 'cherry', 'egg', 'fish')"
      ]
     },
     "execution_count": 260,
     "metadata": {},
     "output_type": "execute_result"
    }
   ],
   "source": [
    "a"
   ]
  },
  {
   "cell_type": "code",
   "execution_count": 262,
   "id": "4eba8ed3-0100-468e-a5b8-79bfd1a69667",
   "metadata": {},
   "outputs": [
    {
     "data": {
      "text/plain": [
       "1"
      ]
     },
     "execution_count": 262,
     "metadata": {},
     "output_type": "execute_result"
    }
   ],
   "source": [
    "a.count(\"apple\")"
   ]
  },
  {
   "cell_type": "code",
   "execution_count": 264,
   "id": "5a00951f-f568-41cd-85fb-d875678d2cda",
   "metadata": {},
   "outputs": [
    {
     "data": {
      "text/plain": [
       "3"
      ]
     },
     "execution_count": 264,
     "metadata": {},
     "output_type": "execute_result"
    }
   ],
   "source": [
    "a.index(\"egg\")"
   ]
  },
  {
   "cell_type": "code",
   "execution_count": 266,
   "id": "71aa539a-776b-4cfb-915e-006fea94b233",
   "metadata": {},
   "outputs": [],
   "source": [
    "a={\"apple\",\"mango\",\"cheery\",\"nested\"}"
   ]
  },
  {
   "cell_type": "code",
   "execution_count": 268,
   "id": "fb6c5b28-3969-4e25-8856-bdc10f93f04f",
   "metadata": {},
   "outputs": [
    {
     "data": {
      "text/plain": [
       "set"
      ]
     },
     "execution_count": 268,
     "metadata": {},
     "output_type": "execute_result"
    }
   ],
   "source": [
    "type(a)"
   ]
  },
  {
   "cell_type": "code",
   "execution_count": 270,
   "id": "7c64415e-6930-471d-8d27-7ed9b7b38566",
   "metadata": {},
   "outputs": [],
   "source": [
    "c=set()"
   ]
  },
  {
   "cell_type": "code",
   "execution_count": 272,
   "id": "32d15fc9-c526-4f44-b7d4-cbc19328047c",
   "metadata": {},
   "outputs": [
    {
     "name": "stdout",
     "output_type": "stream",
     "text": [
      "mango\n",
      "cheery\n",
      "nested\n",
      "apple\n"
     ]
    }
   ],
   "source": [
    "for i in a:\n",
    "    print(i)"
   ]
  },
  {
   "cell_type": "code",
   "execution_count": 276,
   "id": "ddcdec7a-f65b-4cd0-a354-d3f01e0f32c2",
   "metadata": {},
   "outputs": [
    {
     "name": "stdout",
     "output_type": "stream",
     "text": [
      "found\n"
     ]
    }
   ],
   "source": [
    "if \"mango\" in a:\n",
    "    print(\"found\")"
   ]
  },
  {
   "cell_type": "code",
   "execution_count": 278,
   "id": "1dcb52a4-60c3-4014-b9fb-4c1378d75095",
   "metadata": {},
   "outputs": [],
   "source": [
    "a.add(\"pipe\")"
   ]
  },
  {
   "cell_type": "code",
   "execution_count": 280,
   "id": "2c2617ff-eca4-4c66-8d36-d6be0e061dbf",
   "metadata": {},
   "outputs": [
    {
     "data": {
      "text/plain": [
       "{'apple', 'cheery', 'mango', 'nested', 'pipe'}"
      ]
     },
     "execution_count": 280,
     "metadata": {},
     "output_type": "execute_result"
    }
   ],
   "source": [
    "a"
   ]
  },
  {
   "cell_type": "code",
   "execution_count": 282,
   "id": "c85893a3-23a2-43ee-babf-9bc0708278bf",
   "metadata": {},
   "outputs": [],
   "source": [
    "a.discard(\"mango\")"
   ]
  },
  {
   "cell_type": "code",
   "execution_count": 284,
   "id": "983ce3ae-977b-46d1-be23-077f904d48a7",
   "metadata": {},
   "outputs": [
    {
     "data": {
      "text/plain": [
       "{'apple', 'cheery', 'nested', 'pipe'}"
      ]
     },
     "execution_count": 284,
     "metadata": {},
     "output_type": "execute_result"
    }
   ],
   "source": [
    "a"
   ]
  },
  {
   "cell_type": "code",
   "execution_count": 286,
   "id": "d9b7145f-12bd-408d-903a-449b3892619a",
   "metadata": {},
   "outputs": [],
   "source": [
    "a.remove(\"pipe\")"
   ]
  },
  {
   "cell_type": "code",
   "execution_count": 288,
   "id": "c400362d-b138-4d03-9f13-56e6c173cd74",
   "metadata": {},
   "outputs": [
    {
     "data": {
      "text/plain": [
       "{'apple', 'cheery', 'nested'}"
      ]
     },
     "execution_count": 288,
     "metadata": {},
     "output_type": "execute_result"
    }
   ],
   "source": [
    "a"
   ]
  },
  {
   "cell_type": "code",
   "execution_count": 290,
   "id": "75b7ba86-2b41-430f-950b-6e467fe3b101",
   "metadata": {},
   "outputs": [
    {
     "data": {
      "text/plain": [
       "'nested'"
      ]
     },
     "execution_count": 290,
     "metadata": {},
     "output_type": "execute_result"
    }
   ],
   "source": [
    "a.pop()"
   ]
  },
  {
   "cell_type": "code",
   "execution_count": 292,
   "id": "e0e4fe8e-4cff-44f3-acc1-6861c4ea9e87",
   "metadata": {},
   "outputs": [
    {
     "data": {
      "text/plain": [
       "{'apple', 'cheery'}"
      ]
     },
     "execution_count": 292,
     "metadata": {},
     "output_type": "execute_result"
    }
   ],
   "source": [
    "a"
   ]
  },
  {
   "cell_type": "code",
   "execution_count": 294,
   "id": "850cd5b8-3f74-4cc6-a4c1-87047364d268",
   "metadata": {},
   "outputs": [],
   "source": [
    "a.clear()"
   ]
  },
  {
   "cell_type": "code",
   "execution_count": 296,
   "id": "8a2bb516-e223-4e2c-82e2-a9b0b1b19a7f",
   "metadata": {},
   "outputs": [],
   "source": [
    "fs=frozenset([1,2,3])"
   ]
  },
  {
   "cell_type": "code",
   "execution_count": 298,
   "id": "05769ec1-ed76-4932-ac0b-6827db2f30f8",
   "metadata": {},
   "outputs": [],
   "source": [
    "a={\n",
    "    \"name\":\"hariom\",\n",
    "    \"class\":12,\n",
    "    \"age\":20\n",
    "}"
   ]
  },
  {
   "cell_type": "code",
   "execution_count": 300,
   "id": "832b36f5-6e5c-4a8a-9a3d-def9dd832170",
   "metadata": {},
   "outputs": [
    {
     "data": {
      "text/plain": [
       "dict"
      ]
     },
     "execution_count": 300,
     "metadata": {},
     "output_type": "execute_result"
    }
   ],
   "source": [
    "type(a)"
   ]
  },
  {
   "cell_type": "code",
   "execution_count": 302,
   "id": "a395b70e-7694-44c0-bc33-3f66aeadd480",
   "metadata": {},
   "outputs": [
    {
     "data": {
      "text/plain": [
       "'hariom'"
      ]
     },
     "execution_count": 302,
     "metadata": {},
     "output_type": "execute_result"
    }
   ],
   "source": [
    "a[\"name\"]"
   ]
  },
  {
   "cell_type": "code",
   "execution_count": 304,
   "id": "6964594d-294b-4384-b3de-d5fc4fe23622",
   "metadata": {},
   "outputs": [],
   "source": [
    "a.get(\"city\")"
   ]
  },
  {
   "cell_type": "code",
   "execution_count": 306,
   "id": "801fb2bb-0674-40bb-afc7-4861a01f690e",
   "metadata": {},
   "outputs": [],
   "source": [
    "a[\"city\"]=\"delhi\""
   ]
  },
  {
   "cell_type": "code",
   "execution_count": 308,
   "id": "05cbf05c-1728-4bb1-a483-f8b232fe13e8",
   "metadata": {},
   "outputs": [
    {
     "data": {
      "text/plain": [
       "{'name': 'hariom', 'class': 12, 'age': 20, 'city': 'delhi'}"
      ]
     },
     "execution_count": 308,
     "metadata": {},
     "output_type": "execute_result"
    }
   ],
   "source": [
    "a"
   ]
  },
  {
   "cell_type": "code",
   "execution_count": 312,
   "id": "681a0e30-f78b-446e-870a-45d49cfab8d6",
   "metadata": {},
   "outputs": [],
   "source": [
    "a[\"name\"]=\"kaushal\""
   ]
  },
  {
   "cell_type": "code",
   "execution_count": 314,
   "id": "b658f6b5-2aa4-477d-84fe-347845d81cfa",
   "metadata": {},
   "outputs": [
    {
     "data": {
      "text/plain": [
       "{'name': 'kaushal', 'class': 12, 'age': 20, 'city': 'delhi'}"
      ]
     },
     "execution_count": 314,
     "metadata": {},
     "output_type": "execute_result"
    }
   ],
   "source": [
    "a"
   ]
  },
  {
   "cell_type": "code",
   "execution_count": 316,
   "id": "2c59f703-41e9-4035-8a0b-14f943235ced",
   "metadata": {},
   "outputs": [],
   "source": [
    " del a[\"age\"]"
   ]
  },
  {
   "cell_type": "code",
   "execution_count": 318,
   "id": "23eafc45-f187-4b28-954d-379e13b7c6a2",
   "metadata": {},
   "outputs": [
    {
     "data": {
      "text/plain": [
       "{'name': 'kaushal', 'class': 12, 'city': 'delhi'}"
      ]
     },
     "execution_count": 318,
     "metadata": {},
     "output_type": "execute_result"
    }
   ],
   "source": [
    "a"
   ]
  },
  {
   "cell_type": "code",
   "execution_count": 320,
   "id": "f1bfe089-1f1f-450a-ad99-068f4937d8a0",
   "metadata": {},
   "outputs": [
    {
     "data": {
      "text/plain": [
       "True"
      ]
     },
     "execution_count": 320,
     "metadata": {},
     "output_type": "execute_result"
    }
   ],
   "source": [
    "\"name\" in a"
   ]
  },
  {
   "cell_type": "code",
   "execution_count": 322,
   "id": "ae621aa7-d95a-4dc1-8d6b-80c9895298a0",
   "metadata": {},
   "outputs": [
    {
     "name": "stdout",
     "output_type": "stream",
     "text": [
      "name : kaushal\n",
      "class : 12\n",
      "city : delhi\n"
     ]
    }
   ],
   "source": [
    "for key,value in a.items():\n",
    "    print(key,\":\",value)"
   ]
  },
  {
   "cell_type": "code",
   "execution_count": 324,
   "id": "89c35f29-d6c7-44a1-af51-4f77463c43a3",
   "metadata": {},
   "outputs": [
    {
     "data": {
      "text/plain": [
       "dict_keys(['name', 'class', 'city'])"
      ]
     },
     "execution_count": 324,
     "metadata": {},
     "output_type": "execute_result"
    }
   ],
   "source": [
    "a.keys()"
   ]
  },
  {
   "cell_type": "code",
   "execution_count": 326,
   "id": "b6d5ad86-4233-4174-baa9-2826abd461cd",
   "metadata": {},
   "outputs": [
    {
     "data": {
      "text/plain": [
       "dict_values(['kaushal', 12, 'delhi'])"
      ]
     },
     "execution_count": 326,
     "metadata": {},
     "output_type": "execute_result"
    }
   ],
   "source": [
    "a.values()"
   ]
  },
  {
   "cell_type": "code",
   "execution_count": 337,
   "id": "4aa98afe-003b-4ab3-871a-3052f01a4e81",
   "metadata": {},
   "outputs": [
    {
     "data": {
      "text/plain": [
       "dict_items([('name', 'kaushal'), ('class', 12), ('city', 'delhi')])"
      ]
     },
     "execution_count": 337,
     "metadata": {},
     "output_type": "execute_result"
    }
   ],
   "source": [
    "a.items()"
   ]
  },
  {
   "cell_type": "code",
   "execution_count": 339,
   "id": "ba411302-5bdb-4bca-b758-4b652cfb7bee",
   "metadata": {},
   "outputs": [
    {
     "data": {
      "text/plain": [
       "'kaushal'"
      ]
     },
     "execution_count": 339,
     "metadata": {},
     "output_type": "execute_result"
    }
   ],
   "source": [
    "a.pop(\"name\")"
   ]
  },
  {
   "cell_type": "code",
   "execution_count": 341,
   "id": "d39d88e6-339d-4268-9e43-2bb07fd26790",
   "metadata": {},
   "outputs": [],
   "source": [
    "a.clear()"
   ]
  },
  {
   "cell_type": "code",
   "execution_count": 343,
   "id": "a60c00dd-a4a3-4cf1-adf5-cf987a09735c",
   "metadata": {},
   "outputs": [
    {
     "name": "stdout",
     "output_type": "stream",
     "text": [
      "0\n",
      "1\n",
      "2\n",
      "3\n",
      "4\n",
      "5\n",
      "6\n",
      "7\n",
      "8\n",
      "9\n",
      "10\n"
     ]
    }
   ],
   "source": [
    "for i in range (11):\n",
    "    print(i)"
   ]
  },
  {
   "cell_type": "code",
   "execution_count": 350,
   "id": "bae5fc0f-82f6-43dd-9e18-c21e333851d8",
   "metadata": {},
   "outputs": [],
   "source": [
    "i=1\n",
    "while i>=10:\n",
    "    print(i)\n",
    "    i=i+1"
   ]
  },
  {
   "cell_type": "code",
   "execution_count": 352,
   "id": "2186006c-ed37-49db-8e82-22206bb9b399",
   "metadata": {},
   "outputs": [],
   "source": [
    "age=20"
   ]
  },
  {
   "cell_type": "code",
   "execution_count": 354,
   "id": "a3af5213-35fe-4193-a2d5-73e7fa1a8746",
   "metadata": {},
   "outputs": [],
   "source": [
    "if age >=22:\n",
    "    print(\"yes you adult\")"
   ]
  },
  {
   "cell_type": "code",
   "execution_count": 363,
   "id": "067c932c-383b-410d-9cee-f60c8843e07d",
   "metadata": {},
   "outputs": [
    {
     "name": "stdout",
     "output_type": "stream",
     "text": [
      "no you not adult\n"
     ]
    }
   ],
   "source": [
    "if age>=22:\n",
    "    print(\"yes you adult\")\n",
    "else:\n",
    "    print(\"no you not adult\")"
   ]
  },
  {
   "cell_type": "code",
   "execution_count": 365,
   "id": "ca87b28f-2054-4f9c-a64b-16cc99fc6ab1",
   "metadata": {},
   "outputs": [],
   "source": [
    "def a ():\n",
    "    print(\"hello\")"
   ]
  },
  {
   "cell_type": "code",
   "execution_count": 367,
   "id": "1546ef47-ef73-4e17-b1dd-a457053d5272",
   "metadata": {},
   "outputs": [
    {
     "name": "stdout",
     "output_type": "stream",
     "text": [
      "hello\n"
     ]
    }
   ],
   "source": [
    "a()"
   ]
  },
  {
   "cell_type": "code",
   "execution_count": 369,
   "id": "8204cff3-1b05-4040-b05e-a49796d00afc",
   "metadata": {},
   "outputs": [],
   "source": [
    "def a (name):\n",
    "    return name"
   ]
  },
  {
   "cell_type": "code",
   "execution_count": 371,
   "id": "c3a09675-c166-4311-bd16-83ea2a3caede",
   "metadata": {},
   "outputs": [
    {
     "data": {
      "text/plain": [
       "'hariom'"
      ]
     },
     "execution_count": 371,
     "metadata": {},
     "output_type": "execute_result"
    }
   ],
   "source": [
    "a(\"hariom\")"
   ]
  },
  {
   "cell_type": "code",
   "execution_count": 373,
   "id": "baf81ac7-06bf-4150-9859-200ec16353f6",
   "metadata": {},
   "outputs": [],
   "source": [
    "def a (fname,lname):\n",
    "    return fname,lname"
   ]
  },
  {
   "cell_type": "code",
   "execution_count": 375,
   "id": "50d6fa72-f5dd-432d-a35d-108cd6b2872b",
   "metadata": {},
   "outputs": [
    {
     "data": {
      "text/plain": [
       "('hariom', 'singh')"
      ]
     },
     "execution_count": 375,
     "metadata": {},
     "output_type": "execute_result"
    }
   ],
   "source": [
    "a(\"hariom\",\"singh\")"
   ]
  },
  {
   "cell_type": "code",
   "execution_count": 377,
   "id": "b9de71dd-9dd8-4c86-aeba-9eaca8911746",
   "metadata": {},
   "outputs": [],
   "source": [
    "def a (a,b):\n",
    "    return a+b"
   ]
  },
  {
   "cell_type": "code",
   "execution_count": 379,
   "id": "b5bd816a-a258-4253-b2c0-fd5fa4ffb2cf",
   "metadata": {},
   "outputs": [
    {
     "data": {
      "text/plain": [
       "10"
      ]
     },
     "execution_count": 379,
     "metadata": {},
     "output_type": "execute_result"
    }
   ],
   "source": [
    "a(10,0)"
   ]
  },
  {
   "cell_type": "code",
   "execution_count": 381,
   "id": "23696eb7-960a-4343-a103-79360e1aa19e",
   "metadata": {},
   "outputs": [],
   "source": [
    "def a (item):\n",
    "    for i in item:\n",
    "        print(i)"
   ]
  },
  {
   "cell_type": "code",
   "execution_count": 383,
   "id": "a8677e7e-9586-4751-bcd0-5302337c2f87",
   "metadata": {},
   "outputs": [],
   "source": [
    "number=100"
   ]
  },
  {
   "cell_type": "code",
   "execution_count": 385,
   "id": "b00ae464-3a35-45b8-8445-936a5834026a",
   "metadata": {},
   "outputs": [],
   "source": [
    "def a ():\n",
    "    number1=200\n",
    "    print(number)\n",
    "    print(number1)"
   ]
  },
  {
   "cell_type": "code",
   "execution_count": 387,
   "id": "d03784a7-e364-49e0-81b7-169bf2e72267",
   "metadata": {},
   "outputs": [
    {
     "name": "stdout",
     "output_type": "stream",
     "text": [
      "100\n",
      "200\n"
     ]
    }
   ],
   "source": [
    "a()"
   ]
  },
  {
   "cell_type": "code",
   "execution_count": 389,
   "id": "cb88a64d-ef8d-4634-8e28-13442e2726a4",
   "metadata": {},
   "outputs": [],
   "source": [
    "def HDFC_BANK(employes):\n",
    "    pass"
   ]
  },
  {
   "cell_type": "code",
   "execution_count": 391,
   "id": "b38f333b-6f90-40be-a689-55e5faea7da9",
   "metadata": {},
   "outputs": [],
   "source": [
    "x=lambda a,b:a+b"
   ]
  },
  {
   "cell_type": "code",
   "execution_count": 393,
   "id": "dc0ad96c-8a84-4286-aac8-0f3d7aff2344",
   "metadata": {},
   "outputs": [
    {
     "data": {
      "text/plain": [
       "30"
      ]
     },
     "execution_count": 393,
     "metadata": {},
     "output_type": "execute_result"
    }
   ],
   "source": [
    "x(10,20)"
   ]
  },
  {
   "cell_type": "code",
   "execution_count": 395,
   "id": "c7530235-4d5d-4c29-8201-8d3300767880",
   "metadata": {},
   "outputs": [],
   "source": [
    "class a :\n",
    "    def __init__(self,name,age):\n",
    "        self.name=name\n",
    "        self.age=age\n",
    "\n",
    "p1=a(\"hariom\",20)"
   ]
  },
  {
   "cell_type": "code",
   "execution_count": 397,
   "id": "d307600e-2c6b-4ceb-89c1-1ed757e14011",
   "metadata": {},
   "outputs": [
    {
     "data": {
      "text/plain": [
       "'hariom'"
      ]
     },
     "execution_count": 397,
     "metadata": {},
     "output_type": "execute_result"
    }
   ],
   "source": [
    "p1.name"
   ]
  },
  {
   "cell_type": "code",
   "execution_count": 399,
   "id": "109b6964-053b-481d-98fe-781b3efef223",
   "metadata": {},
   "outputs": [
    {
     "data": {
      "text/plain": [
       "20"
      ]
     },
     "execution_count": 399,
     "metadata": {},
     "output_type": "execute_result"
    }
   ],
   "source": [
    "p1.age"
   ]
  },
  {
   "cell_type": "code",
   "execution_count": 401,
   "id": "837a96d3-08d6-4aa4-8656-6a11dbd1695a",
   "metadata": {},
   "outputs": [],
   "source": [
    "class a :\n",
    "    def __init__(self,name,yob):\n",
    "        self.name=name\n",
    "        self.yob=yob\n",
    "\n",
    "    def age(self,cyear):\n",
    "        return cyear-self.yob\n",
    "\n",
    "p1=a(\"hariom\",1548)"
   ]
  },
  {
   "cell_type": "code",
   "execution_count": 403,
   "id": "704c1c38-4f22-486e-957b-51beb091cb09",
   "metadata": {},
   "outputs": [
    {
     "data": {
      "text/plain": [
       "477"
      ]
     },
     "execution_count": 403,
     "metadata": {},
     "output_type": "execute_result"
    }
   ],
   "source": [
    "p1.age(2025)"
   ]
  },
  {
   "cell_type": "code",
   "execution_count": 405,
   "id": "1ee93fdc-74ea-468b-8080-ff08de3303cf",
   "metadata": {},
   "outputs": [],
   "source": [
    "class a :\n",
    "    def __init__(self):\n",
    "        pass\n",
    "\n",
    "    def add(self,a,b):\n",
    "        return a+b\n",
    "\n",
    "    def sub(self,a,b):\n",
    "        return a-b\n",
    "\n",
    "    def mult(self,a,b):\n",
    "        return a*b\n",
    "\n",
    "    def div(self,a,b):\n",
    "        return a/b\n",
    "\n",
    "    def fdiv(self,a,b):\n",
    "        return a//b\n",
    "\n",
    "    def sqr(self,a):\n",
    "        return a**2\n",
    "\n",
    "    def power(self,a):\n",
    "        return a**3\n",
    "\n",
    "    def mod(self,a,b):\n",
    "        return a%b\n",
    "\n",
    "p1=a()"
   ]
  },
  {
   "cell_type": "code",
   "execution_count": 407,
   "id": "e9b4bde2-59da-437f-a846-d4d25811d3c9",
   "metadata": {},
   "outputs": [
    {
     "data": {
      "text/plain": [
       "190"
      ]
     },
     "execution_count": 407,
     "metadata": {},
     "output_type": "execute_result"
    }
   ],
   "source": [
    "p1.add(100,90)"
   ]
  },
  {
   "cell_type": "code",
   "execution_count": 409,
   "id": "18f5c6c4-e418-45df-b894-d434b0e49610",
   "metadata": {},
   "outputs": [
    {
     "data": {
      "text/plain": [
       "92"
      ]
     },
     "execution_count": 409,
     "metadata": {},
     "output_type": "execute_result"
    }
   ],
   "source": [
    "p1.sub(100,8)"
   ]
  },
  {
   "cell_type": "code",
   "execution_count": 411,
   "id": "fe58d295-879e-4baf-a21e-102cd5fcfc5a",
   "metadata": {},
   "outputs": [],
   "source": [
    "class a:\n",
    "    def __init__(self,name,age):\n",
    "        self.name=name\n",
    "        self.age=age\n",
    "\n",
    "    def info(self):\n",
    "        return(self.name,self.age)\n",
    "\n",
    "p1=a(\"hariom\",12)"
   ]
  },
  {
   "cell_type": "code",
   "execution_count": 413,
   "id": "0dadb58f-866c-41e3-8db3-b24a09c481a3",
   "metadata": {},
   "outputs": [
    {
     "data": {
      "text/plain": [
       "('hariom', 12)"
      ]
     },
     "execution_count": 413,
     "metadata": {},
     "output_type": "execute_result"
    }
   ],
   "source": [
    "p1.info()"
   ]
  },
  {
   "cell_type": "code",
   "execution_count": 415,
   "id": "a36b1082-8b54-4d7e-9af3-e012502d1e45",
   "metadata": {},
   "outputs": [],
   "source": [
    "class a :\n",
    "    def __init__(self,fname,lname):\n",
    "        self.firstname=fname\n",
    "        self.lastname=lname\n",
    "\n",
    "    def printname(self):\n",
    "        print(self.firstname,self.lastname)"
   ]
  },
  {
   "cell_type": "code",
   "execution_count": 417,
   "id": "1e807a6a-9dc0-44b9-a8ec-848ff60d4dbe",
   "metadata": {},
   "outputs": [],
   "source": [
    "class b(a):\n",
    "    pass"
   ]
  },
  {
   "cell_type": "code",
   "execution_count": 419,
   "id": "918ca1e9-2ac7-4e46-b93f-f5a14c878144",
   "metadata": {},
   "outputs": [],
   "source": [
    "p1=b(\"hariom\",\"singh\")"
   ]
  },
  {
   "cell_type": "code",
   "execution_count": 421,
   "id": "01729fac-2d56-4397-8ee6-85d14a31a515",
   "metadata": {},
   "outputs": [
    {
     "name": "stdout",
     "output_type": "stream",
     "text": [
      "hariom singh\n"
     ]
    }
   ],
   "source": [
    "p1.printname()"
   ]
  },
  {
   "cell_type": "code",
   "execution_count": 423,
   "id": "cd32c54f-db10-4bf9-9db6-04d20a7fb560",
   "metadata": {},
   "outputs": [],
   "source": [
    "class a :\n",
    "    def __init__(self,fname,lname):\n",
    "        self.firstname=fname\n",
    "        self.lastname=lname\n",
    "\n",
    "    def printname(self):\n",
    "        print(self.firstname,self.lastname)"
   ]
  },
  {
   "cell_type": "code",
   "execution_count": 425,
   "id": "2cbeec8a-39d1-43d3-9964-09423e3adfe0",
   "metadata": {},
   "outputs": [],
   "source": [
    "class b(a):\n",
    "    def __init__(self,fname,lname,year):\n",
    "        super().__init__(fname,lname)\n",
    "        self.graduationyear=year\n",
    "\n",
    "    def message(self):\n",
    "        print(\"hello\",self.firstname,self.lastname,\"in\",self.graduationyear,\"session\")"
   ]
  },
  {
   "cell_type": "code",
   "execution_count": 427,
   "id": "56752267-d30e-46cd-95de-9777b67f6edd",
   "metadata": {},
   "outputs": [],
   "source": [
    "p1=b(\"hariom\",\"singh\",2025)"
   ]
  },
  {
   "cell_type": "code",
   "execution_count": 429,
   "id": "d00cc86c-80ee-48e0-b19a-45ac6fc997de",
   "metadata": {},
   "outputs": [
    {
     "name": "stdout",
     "output_type": "stream",
     "text": [
      "hello hariom singh in 2025 session\n"
     ]
    }
   ],
   "source": [
    "p1.message()"
   ]
  },
  {
   "cell_type": "code",
   "execution_count": 431,
   "id": "e1d0d43d-1430-4cc7-82c7-8ae5cad5bc9f",
   "metadata": {},
   "outputs": [],
   "source": [
    "class a :\n",
    "    def method1(self):\n",
    "        return ( \"class A\")"
   ]
  },
  {
   "cell_type": "code",
   "execution_count": 433,
   "id": "ca1f7f71-1348-420e-be09-e01762a678cb",
   "metadata": {},
   "outputs": [],
   "source": [
    "class b:\n",
    "    def method2(self):\n",
    "        return (\"class B \")"
   ]
  },
  {
   "cell_type": "code",
   "execution_count": 435,
   "id": "6b124e64-4c39-4e1a-be85-869a6ffbef2b",
   "metadata": {},
   "outputs": [],
   "source": [
    "class c (a,b):\n",
    "    def method(self):\n",
    "        print(self.method1()+\"and\"+self.method2())"
   ]
  },
  {
   "cell_type": "code",
   "execution_count": 437,
   "id": "a3264ee9-2700-44b8-8482-d53b0b0ca8df",
   "metadata": {},
   "outputs": [],
   "source": [
    "c=c()"
   ]
  },
  {
   "cell_type": "code",
   "execution_count": 439,
   "id": "12968952-59b6-494a-a237-9e87947e0cc9",
   "metadata": {},
   "outputs": [
    {
     "name": "stdout",
     "output_type": "stream",
     "text": [
      "class Aandclass B \n"
     ]
    }
   ],
   "source": [
    "c.method()"
   ]
  },
  {
   "cell_type": "code",
   "execution_count": 441,
   "id": "5a40eaeb-9494-4619-a541-e62f3e94a85a",
   "metadata": {},
   "outputs": [],
   "source": [
    "import datetime"
   ]
  },
  {
   "cell_type": "code",
   "execution_count": 443,
   "id": "c10c3ac9-d482-451f-8fff-0fbf16d5d898",
   "metadata": {},
   "outputs": [
    {
     "data": {
      "text/plain": [
       "datetime.datetime(2025, 8, 11, 16, 49, 36, 736782)"
      ]
     },
     "execution_count": 443,
     "metadata": {},
     "output_type": "execute_result"
    }
   ],
   "source": [
    "datetime.datetime.now()"
   ]
  },
  {
   "cell_type": "code",
   "execution_count": 449,
   "id": "87141623-bed4-440f-9d60-173c9be55cd9",
   "metadata": {},
   "outputs": [
    {
     "data": {
      "text/plain": [
       "<attribute 'day' of 'datetime.date' objects>"
      ]
     },
     "execution_count": 449,
     "metadata": {},
     "output_type": "execute_result"
    }
   ],
   "source": [
    "datetime.datetime.day"
   ]
  },
  {
   "cell_type": "code",
   "execution_count": 453,
   "id": "8e1df398-7bdd-41df-8a21-339010e2a1ed",
   "metadata": {},
   "outputs": [
    {
     "data": {
      "text/plain": [
       "' hello everyone'"
      ]
     },
     "execution_count": 453,
     "metadata": {},
     "output_type": "execute_result"
    }
   ],
   "source": [
    "f=open(\"anshul.txt\",\"r\")\n",
    "f.read()"
   ]
  },
  {
   "cell_type": "code",
   "execution_count": 455,
   "id": "a3dac108-91d5-4709-88e6-3738b1cd7ec7",
   "metadata": {},
   "outputs": [],
   "source": [
    "f.close()"
   ]
  },
  {
   "cell_type": "code",
   "execution_count": 457,
   "id": "25102eda-4302-487c-9675-a2ae48a83ec8",
   "metadata": {},
   "outputs": [],
   "source": [
    "f=open(\"anshul.txt\",\"w\")\n",
    "f.write(\"or kya haal hai apke\")\n",
    "f.close()"
   ]
  },
  {
   "cell_type": "code",
   "execution_count": 459,
   "id": "533c2652-30fa-4c01-9286-d6b2a98af885",
   "metadata": {},
   "outputs": [
    {
     "data": {
      "text/plain": [
       "'or kya haal hai apke'"
      ]
     },
     "execution_count": 459,
     "metadata": {},
     "output_type": "execute_result"
    }
   ],
   "source": [
    "f=open(\"anshul.txt\",\"r\")\n",
    "f.read()"
   ]
  },
  {
   "cell_type": "code",
   "execution_count": 461,
   "id": "f861aec8-1890-4d1c-afa4-c8b91adc8b4a",
   "metadata": {},
   "outputs": [],
   "source": [
    "f.close()"
   ]
  },
  {
   "cell_type": "code",
   "execution_count": 465,
   "id": "74882c2e-ce5f-403d-9ebc-a7d1861c6272",
   "metadata": {},
   "outputs": [],
   "source": [
    "f=open(\"riya.txt\",\"w\")\n",
    "f.write(\" mein muni mein rheti hu \")\n",
    "f.close()"
   ]
  },
  {
   "cell_type": "code",
   "execution_count": 467,
   "id": "4827d780-8621-429a-8c15-0bd660f82aad",
   "metadata": {},
   "outputs": [
    {
     "data": {
      "text/plain": [
       "' mein muni mein rheti hu '"
      ]
     },
     "execution_count": 467,
     "metadata": {},
     "output_type": "execute_result"
    }
   ],
   "source": [
    "f=open(\"riya.txt\",\"r\")\n",
    "f.read()"
   ]
  },
  {
   "cell_type": "code",
   "execution_count": 469,
   "id": "0b95bfea-1ed1-435c-880d-6c6a60db2ab8",
   "metadata": {},
   "outputs": [],
   "source": [
    "f.close()"
   ]
  },
  {
   "cell_type": "code",
   "execution_count": 473,
   "id": "ac56752a-339a-4dc9-8f81-91f2306f5813",
   "metadata": {},
   "outputs": [],
   "source": [
    "f=open(\"riya.txt\",\"a\")\n",
    "f.write(\"/ or ha mein apse kaffi dino se mil bhi nhi payyi hu iam right\")\n",
    "f.close()"
   ]
  },
  {
   "cell_type": "code",
   "execution_count": 477,
   "id": "adb3793f-080a-43f8-ba3b-03dab3da60f3",
   "metadata": {},
   "outputs": [
    {
     "data": {
      "text/plain": [
       "' mein muni mein rheti hu / or ha mein apse kaffi dino se mil bhi nhi payyi hu iam right/ or ha mein apse kaffi dino se mil bhi nhi payyi hu iam right'"
      ]
     },
     "execution_count": 477,
     "metadata": {},
     "output_type": "execute_result"
    }
   ],
   "source": [
    "f=open(\"riya.txt\",\"r\")\n",
    "f.read()"
   ]
  },
  {
   "cell_type": "code",
   "execution_count": 479,
   "id": "c987a886-34fd-443a-b083-cd7dc383daa2",
   "metadata": {},
   "outputs": [],
   "source": [
    "f.close()"
   ]
  },
  {
   "cell_type": "code",
   "execution_count": 490,
   "id": "d60c3b9f-0813-42bc-a5cc-ecc52376e7b7",
   "metadata": {},
   "outputs": [],
   "source": [
    "import os"
   ]
  },
  {
   "cell_type": "code",
   "execution_count": 492,
   "id": "a5096e53-1e65-46bc-a9f3-517f99604ffe",
   "metadata": {},
   "outputs": [
    {
     "name": "stdout",
     "output_type": "stream",
     "text": [
      " file nhi hai \n"
     ]
    }
   ],
   "source": [
    "if os.path.exists(\"riya.txt\"):\n",
    "    os.remove(\"riya.txt\")\n",
    "else:\n",
    "    print(\" file nhi hai \")\n"
   ]
  },
  {
   "cell_type": "code",
   "execution_count": 496,
   "id": "4ff0897d-264c-4b2c-b551-07b293ad923e",
   "metadata": {},
   "outputs": [
    {
     "ename": "NameError",
     "evalue": "name 'q' is not defined",
     "output_type": "error",
     "traceback": [
      "\u001b[1;31m---------------------------------------------------------------------------\u001b[0m",
      "\u001b[1;31mNameError\u001b[0m                                 Traceback (most recent call last)",
      "Cell \u001b[1;32mIn[496], line 1\u001b[0m\n\u001b[1;32m----> 1\u001b[0m q\n",
      "\u001b[1;31mNameError\u001b[0m: name 'q' is not defined"
     ]
    }
   ],
   "source": [
    "q"
   ]
  },
  {
   "cell_type": "code",
   "execution_count": 500,
   "id": "e7ad47d2-af41-40c4-acc0-df74a3875421",
   "metadata": {},
   "outputs": [
    {
     "name": "stdout",
     "output_type": "stream",
     "text": [
      "error\n"
     ]
    }
   ],
   "source": [
    "try:\n",
    "    print(q)\n",
    "except:\n",
    "    print(\"error\")"
   ]
  },
  {
   "cell_type": "code",
   "execution_count": 502,
   "id": "a4c5eb11-d968-4dd2-9780-7c504a5d752d",
   "metadata": {},
   "outputs": [
    {
     "ename": "ZeroDivisionError",
     "evalue": "division by zero",
     "output_type": "error",
     "traceback": [
      "\u001b[1;31m---------------------------------------------------------------------------\u001b[0m",
      "\u001b[1;31mZeroDivisionError\u001b[0m                         Traceback (most recent call last)",
      "Cell \u001b[1;32mIn[502], line 1\u001b[0m\n\u001b[1;32m----> 1\u001b[0m \u001b[38;5;241m10\u001b[39m\u001b[38;5;241m/\u001b[39m\u001b[38;5;241m0\u001b[39m\n",
      "\u001b[1;31mZeroDivisionError\u001b[0m: division by zero"
     ]
    }
   ],
   "source": [
    "10/0"
   ]
  },
  {
   "cell_type": "code",
   "execution_count": 506,
   "id": "c06b2678-4e61-4203-8e05-f806c09ed99c",
   "metadata": {},
   "outputs": [
    {
     "name": "stdout",
     "output_type": "stream",
     "text": [
      "error\n"
     ]
    }
   ],
   "source": [
    "try:\n",
    "    print(10/0)\n",
    "\n",
    "except:\n",
    "    print(\"error\")"
   ]
  },
  {
   "cell_type": "code",
   "execution_count": null,
   "id": "051a0ed7-5285-4b41-8ccc-cd04f2b1b545",
   "metadata": {},
   "outputs": [],
   "source": [
    "  "
   ]
  }
 ],
 "metadata": {
  "kernelspec": {
   "display_name": "Python [conda env:base] *",
   "language": "python",
   "name": "conda-base-py"
  },
  "language_info": {
   "codemirror_mode": {
    "name": "ipython",
    "version": 3
   },
   "file_extension": ".py",
   "mimetype": "text/x-python",
   "name": "python",
   "nbconvert_exporter": "python",
   "pygments_lexer": "ipython3",
   "version": "3.12.7"
  }
 },
 "nbformat": 4,
 "nbformat_minor": 5
}
