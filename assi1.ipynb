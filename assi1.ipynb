{
 "cells": [
  {
   "cell_type": "code",
   "execution_count": 1,
   "id": "cc67f16e-6f5a-4e0c-a000-601f3481524e",
   "metadata": {},
   "outputs": [],
   "source": [
    "city=\"delhi\""
   ]
  },
  {
   "cell_type": "code",
   "execution_count": 2,
   "id": "97fafa06-4be7-4a15-ab61-1ca9926873bb",
   "metadata": {},
   "outputs": [
    {
     "name": "stdout",
     "output_type": "stream",
     "text": [
      "delhi\n"
     ]
    }
   ],
   "source": [
    "print(city)"
   ]
  },
  {
   "cell_type": "code",
   "execution_count": 6,
   "id": "c250e4cf-328c-486a-852c-b32917509243",
   "metadata": {},
   "outputs": [
    {
     "name": "stdout",
     "output_type": "stream",
     "text": [
      "<class 'str'>\n"
     ]
    }
   ],
   "source": [
    "print(type(city))"
   ]
  },
  {
   "cell_type": "code",
   "execution_count": 7,
   "id": "0dc358a0-0050-40e3-baea-7aff25ec3e0f",
   "metadata": {},
   "outputs": [],
   "source": [
    "number_str=str(42)"
   ]
  },
  {
   "cell_type": "code",
   "execution_count": 8,
   "id": "fcd7b4c0-5cb2-48ee-b15e-99cd04988797",
   "metadata": {},
   "outputs": [
    {
     "name": "stdout",
     "output_type": "stream",
     "text": [
      "42\n"
     ]
    }
   ],
   "source": [
    "print(number_str)"
   ]
  },
  {
   "cell_type": "code",
   "execution_count": 9,
   "id": "a34a3493-b5d8-46ee-b5e4-3542ea3b9a6e",
   "metadata": {},
   "outputs": [],
   "source": [
    "name=\"anshul\""
   ]
  },
  {
   "cell_type": "code",
   "execution_count": 10,
   "id": "6bdfa928-8b6d-46fa-a511-cc8c9f042b73",
   "metadata": {},
   "outputs": [
    {
     "name": "stdout",
     "output_type": "stream",
     "text": [
      "6\n"
     ]
    }
   ],
   "source": [
    "print(len(name))"
   ]
  },
  {
   "cell_type": "code",
   "execution_count": 12,
   "id": "287e9864-b492-48da-8fdd-cc187ebae108",
   "metadata": {},
   "outputs": [
    {
     "name": "stdout",
     "output_type": "stream",
     "text": [
      "yes,'code'exists in the text.\n"
     ]
    }
   ],
   "source": [
    "text=\"code square\"\n",
    "if\"code\"in text:\n",
    "    print(\"yes,'code'exists in the text.\")"
   ]
  },
  {
   "cell_type": "code",
   "execution_count": null,
   "id": "56b803d1-2ad4-4d64-9024-df2b92dde8bb",
   "metadata": {},
   "outputs": [],
   "source": []
  }
 ],
 "metadata": {
  "kernelspec": {
   "display_name": "Python 3 (ipykernel)",
   "language": "python",
   "name": "python3"
  },
  "language_info": {
   "codemirror_mode": {
    "name": "ipython",
    "version": 3
   },
   "file_extension": ".py",
   "mimetype": "text/x-python",
   "name": "python",
   "nbconvert_exporter": "python",
   "pygments_lexer": "ipython3",
   "version": "3.12.7"
  }
 },
 "nbformat": 4,
 "nbformat_minor": 5
}
